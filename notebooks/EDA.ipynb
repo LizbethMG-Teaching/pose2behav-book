{
 "cells": [
  {
   "cell_type": "code",
   "execution_count": null,
   "id": "e1634b39",
   "metadata": {
    "vscode": {
     "languageId": "plaintext"
    }
   },
   "outputs": [],
   "source": [
    "# ---\n",
    "# title: \"Test loading DLC SuperModel output\"\n",
    "# ---\n",
    "\n",
    "# 🐭 Example notebook to test access to a DLC SuperModel .h5 output\n",
    "# Students should be able to run this in Colab directly\n",
    "\n",
    "import pandas as pd\n",
    "\n",
    "# 🔗 URL to your GitHub file (replace <username>/<repo>)\n",
    "url = \"https://raw.githubusercontent.com/izbethMG-Teaching/pose2behav-book/main/assets/data/single-mouse_topview_10min_ 1_superanimal_topviewmouse_snapshot-fasterrcnn_mobilenet_v3_large_fpn-004_snapshot-hrnet_w32-004.h5\"\n",
    "\n",
    "# Try loading as a pandas DataFrame\n",
    "df = pd.read_hdf(url)\n",
    "\n",
    "print(\"✅ File loaded successfully!\")\n",
    "print(\"Shape:\", df.shape)\n",
    "print(\"First rows:\")\n",
    "display(df.head())\n",
    "\n",
    "# --- Student exercise ---\n",
    "# TODO: Write one line of code to print the list of columns"
   ]
  },
  {
   "cell_type": "markdown",
   "id": "58d8b297",
   "metadata": {},
   "source": [
    "[![Open In Colab](https://colab.research.google.com/assets/colab-badge.svg)](\n",
    "https://colab.research.google.com/github/https://github.com/LizbethMG-Teaching/pose2behav-book/blob/main/notebooks/EDA.ipynb)"
   ]
  }
 ],
 "metadata": {
  "language_info": {
   "name": "python"
  }
 },
 "nbformat": 4,
 "nbformat_minor": 5
}
