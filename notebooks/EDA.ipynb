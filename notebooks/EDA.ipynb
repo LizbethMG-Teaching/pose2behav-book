{
 "cells": [
  {
   "cell_type": "markdown",
   "id": "8c970b19",
   "metadata": {},
   "source": [
    "# 📓 Notebook 1 – Exploratory Data Analysis (EDA) of Pose Outputs\n",
    "\n",
    "## 1. Introduction & objectives\n",
    "\n",
    "In this notebook, we will explore pose estimation outputs generated with SuperAnimal ModelZoo on 10-minute top-view mouse videos.\n",
    "\n",
    "Learning goals:\n",
    "\t•\tUnderstand the structure of .h5 output files\n",
    "\t•\tExplore metadata and summary statistics\n",
    "\t•\tVisualize likelihoods, trajectories, and skeletons\n",
    "\t•\tDetect and correct errors (missing points, jumps)\n",
    "\t•\tCompare outputs from clear vs challenging videos\n",
    "\t•\tPrepare cleaned data for further analysis\n",
    "\n",
    "![Mouse pose](https://raw.githubusercontent.com/LizbethMG-Teaching/pose2behav-book/main/assets/notebook-image1.png)\n",
    "\n",
    "Imagine you are a junior researcher in a neuroscience lab. Your colleague just handed you pose estimation outputs generated with SuperAnimal ModelZoo from 10-minute videos of mice exploring an arena. Before you can ask scientific questions about locomotion, posture, or social behavior, you need to verify the quality of these model predictions. Are all the keypoints tracked reliably? Do some body parts drop out in certain conditions? How does tracking quality differ between a clear video and a more challenging one?\n",
    "\n",
    "In this notebook, you will take the role of a data detective: opening the .h5 pose files, exploring the structure, visualizing likelihoods and trajectories, spotting errors, and applying simple corrections. By the end, you will produce a cleaned dataset and a short “quality report” that prepares you for deeper behavioral analysis in the next notebooks.\n"
   ]
  },
  {
   "cell_type": "markdown",
   "id": "3fc44a0e",
   "metadata": {},
   "source": [
    "## 2. Data Loading & Format Inspection\n",
    "\n",
    "👉 Goal: learn to open .h5 files and understand their structure.\n",
    "\t•\tLoad one file into a pandas DataFrame\n",
    "\t•\tInspect columns: scorer, bodypart, x, y, likelihood\n",
    "\t•\tCount frames and list bodyparts\n",
    "\n",
    "Exercise 1:\n",
    "List all detected bodyparts and classify them as head / body / tail."
   ]
  },
  {
   "cell_type": "markdown",
   "id": "45bb9119",
   "metadata": {},
   "source": [
    "## 3. Metadata & basic summary"
   ]
  },
  {
   "cell_type": "markdown",
   "id": "74d3fbdb",
   "metadata": {},
   "source": [
    "## 4. Likelihood distributions"
   ]
  },
  {
   "cell_type": "markdown",
   "id": "bf910071",
   "metadata": {},
   "source": [
    "## 5. Time series inspection"
   ]
  },
  {
   "cell_type": "markdown",
   "id": "e9c58d90",
   "metadata": {},
   "source": [
    "## 6. Spatial distributions"
   ]
  },
  {
   "cell_type": "markdown",
   "id": "dc725bc7",
   "metadata": {},
   "source": [
    "## 7. Visual diagnostics "
   ]
  },
  {
   "cell_type": "code",
   "execution_count": null,
   "id": "e1634b39",
   "metadata": {
    "vscode": {
     "languageId": "plaintext"
    }
   },
   "outputs": [],
   "source": [
    "\n",
    "\n",
    "# Install helpers (quiet)\n",
    "!pip -q install gdown tables\n",
    "\n",
    "import gdown, os, pandas as pd, numpy as np\n",
    "from pathlib import Path\n",
    "\n",
    "# 👇 Replace with your real Google Drive FILE ID (not the whole link!)\n",
    "FILE_ID = \"11zcVPSS4D-JLQQ11hkMbPwmqs-cd6Am2\"\n",
    "\n",
    "# Build a direct-download URL for gdown\n",
    "URL = f\"https://drive.google.com/uc?id={FILE_ID}\"\n",
    "\n",
    "DEST = Path(\"/content/dlc_output.h5\")\n",
    "print(\"Downloading from Drive...\")\n",
    "gdown.download(URL, str(DEST), quiet=False)\n",
    "\n",
    "# Quick sanity check\n",
    "assert DEST.exists() and DEST.stat().st_size > 0, \"Download failed or empty file.\"\n",
    "print(f\"✅ Downloaded to {DEST} ({DEST.stat().st_size/1_000_000:.2f} MB)\")\n"
   ]
  },
  {
   "cell_type": "code",
   "execution_count": null,
   "id": "d20f8c56",
   "metadata": {
    "vscode": {
     "languageId": "plaintext"
    }
   },
   "outputs": [],
   "source": [
    "# DeepLabCut H5 often stores under keys like 'df_with_missing' or 'df'\n",
    "# We'll try common keys, and fall back to listing what's available.\n",
    "\n",
    "def load_dlc_h5(path: Path):\n",
    "    try:\n",
    "        # Try default (let pandas pick)\n",
    "        return pd.read_hdf(path)\n",
    "    except (KeyError, ValueError):\n",
    "        # Inspect keys and try common ones\n",
    "        with pd.HDFStore(path, mode=\"r\") as store:\n",
    "            keys = [k.strip(\"/\") for k in store.keys()]\n",
    "        print(\"Available keys in H5:\", keys)\n",
    "        for k in [\"df_with_missing\", \"df\", \"pose\", \"table\"]:\n",
    "            if k in keys:\n",
    "                return pd.read_hdf(path, key=k)\n",
    "        # Last resort: first key\n",
    "        if keys:\n",
    "            return pd.read_hdf(path, key=keys[0])\n",
    "        raise RuntimeError(\"No readable tables found in this H5.\")\n",
    "\n",
    "df = load_dlc_h5(DEST)\n",
    "print(\"✅ Loaded H5 into DataFrame:\", df.shape)\n",
    "display(df.head(3))\n"
   ]
  },
  {
   "cell_type": "code",
   "execution_count": null,
   "id": "a52b1939",
   "metadata": {
    "vscode": {
     "languageId": "plaintext"
    }
   },
   "outputs": [],
   "source": [
    "# DLC H5 columns are often a MultiIndex: (scorer, bodypart, coord)\n",
    "if isinstance(df.columns, pd.MultiIndex):\n",
    "    df.columns = [\"{}/{}/{}\".format(*lvl) for lvl in df.columns]\n",
    "print(\"Columns (first 10):\")\n",
    "print(df.columns[:10])\n"
   ]
  },
  {
   "cell_type": "code",
   "execution_count": null,
   "id": "f7c4a8dd",
   "metadata": {
    "vscode": {
     "languageId": "plaintext"
    }
   },
   "outputs": [],
   "source": [
    "import matplotlib.pyplot as plt\n",
    "\n",
    "# Try to find any '/x' and matching '/y' columns\n",
    "xcols = [c for c in df.columns if c.endswith(\"/x\")]\n",
    "assert len(xcols) > 0, \"Couldn't find any '/x' columns. Inspect df.columns.\"\n",
    "xcol = xcols[0]\n",
    "ycol = xcol[:-2] + \"/y\"\n",
    "\n",
    "plt.figure()\n",
    "plt.plot(df[xcol].values, -df[ycol].values)  # invert y for display\n",
    "plt.title(f\"Trajectory preview: {xcol.split('/')[1] if '/' in xcol else xcol}\")\n",
    "plt.xlabel(\"x\"); plt.ylabel(\"y (top=up)\")\n",
    "plt.show()\n"
   ]
  },
  {
   "cell_type": "markdown",
   "id": "58d8b297",
   "metadata": {},
   "source": [
    "[![Open In Colab](https://colab.research.google.com/assets/colab-badge.svg)](\n",
    "https://colab.research.google.com/github/LizbethMG-Teaching/pose2behav-book/blob/main/notebooks/EDA.ipynb)]"
   ]
  }
 ],
 "metadata": {
  "language_info": {
   "name": "python"
  }
 },
 "nbformat": 4,
 "nbformat_minor": 5
}
