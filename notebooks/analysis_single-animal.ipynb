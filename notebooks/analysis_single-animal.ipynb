{
 "cells": [
  {
   "cell_type": "markdown",
   "id": "d6609f65",
   "metadata": {},
   "source": [
    "# 📓 Notebook 2 – Analysis of single animal (top-view mouse)\n",
    "## 1. Introduction & objectives\n",
    "\n",
    "In this notebook, we will analyze pose estimation outputs generated with SuperAnimal ModelZoo on 5-minute top-view mouse video.\n",
    "\n",
    "**Learning goals:**\n",
    "\n",
    "\n",
    "--- \n",
    "**Instructions**\n",
    "\n",
    "This notebook mixes pre-filled code cells (nothing to change) and coding exercises that you will complete.\n",
    "\n",
    "👉 Here’s how to work through it:\n",
    "1. Read carefully each section before running the cells.\n",
    "2.\tWhen a cell requires you to code, you’ll see a TODO comment.\n",
    "3.\tThe TODO will tell you how many lines of code you are expected to write.\n",
    "4.\tWrite your code only between the markers:\n",
    "    \n",
    "```python\n",
    "# >>>>>>>>>>>>>>>>>>>\n",
    "# your code goes here\n",
    "# <<<<<<<<<<<<<<<<<<<\n",
    "```\n",
    "\n",
    "✋ Do not edit anything outside these markers.\n",
    "\n",
    "⚡ After finishing the course, feel free to experiment and modify the notebook as you like!\n",
    "\n",
    "✨ Example\n",
    "\n",
    "What you will see in the notebook:\n",
    "\n",
    "```python\n",
    "# >>>>>>>>>>>>>>>>>>>\n",
    "# TODO (2 lines): compute the duration of the video and print it \n",
    "# variables: frame_count, fps\n",
    "# YOUR CODE: duration = \n",
    "# YOUR CODE: print(...)\n",
    "# <<<<<<<<<<<<<<<<<<< \n",
    "```\n",
    "\n",
    "What you are expected to write: \n",
    "\n",
    "```python\n",
    "# >>>>>>>>>>>>>>>>>>>\n",
    "# TODO (2 lines): compute the duration of the video and print it \n",
    "# variables: frame_count, fps\n",
    "duration = frame_count / fps\n",
    "print(f\"Duration (s):\", duration)\n",
    "# <<<<<<<<<<<<<<<<<<< \n",
    "```\n",
    "---\n",
    "  \n",
    "\n",
    "<img src=\"https://raw.githubusercontent.com/LizbethMG-Teaching/pose2behav-book/main/assets/notebook2-cover.png\" width=\"50%\">\n",
    "\n",
    "**Narrative**\n",
    "\n",
    "In this notebook, you will analyze pose-estimation data from a freely-moving mouse. \n",
    "\n",
    "You will follow **Pixel** 🐭💛, a little mouse exploring an arena.\n",
    "Using pose data captured by SuperAnimal, we’ll uncover how Pixel moves, rests, and explores. \n",
    "\n",
    "The goal is to transform raw x,y coordinates into quantitative descriptions of movement and space use, similar to what behavioral neuroscientists do when studying exploration and locomotion.\n",
    "\n",
    "For this exercise you will have access to the data in form of a .h5 file that has been already pre-processed as in the previous notebook. \n",
    "\n",
    "--- "
   ]
  },
  {
   "cell_type": "markdown",
   "id": "32addbe1",
   "metadata": {},
   "source": [
    "## 2. Data Loading & Format Inspection\n",
    "\n",
    "### 2.1 Download data (prefilled)\n",
    "\n",
    "**📋 Instructions:**\n",
    "1. Run the code cell below to download a dataset file from Google Drive (with gdown), save it locally (path depends on Colab vs local), and verify the download."
   ]
  },
  {
   "cell_type": "code",
   "execution_count": null,
   "id": "ecbf63b7",
   "metadata": {
    "vscode": {
     "languageId": "plaintext"
    }
   },
   "outputs": [],
   "source": []
  }
 ],
 "metadata": {
  "language_info": {
   "name": "python"
  }
 },
 "nbformat": 4,
 "nbformat_minor": 5
}
